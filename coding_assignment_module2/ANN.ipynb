{
  "cells": [
    {
      "metadata": {
        "trusted": true
      },
      "cell_type": "code",
      "source": "import tensorflow as tf\nimport tensorflow.keras as ker\nimport numpy as np\nmnist = ker.datasets.mnist\n(train_images, train_labels), (test_images, test_labels) = mnist.load_data()",
      "execution_count": 11,
      "outputs": [
        {
          "output_type": "stream",
          "text": "Downloading data from https://storage.googleapis.com/tensorflow/tf-keras-datasets/mnist.npz\n11493376/11490434 [==============================] - 1s 0us/step\n",
          "name": "stdout"
        }
      ]
    },
    {
      "metadata": {
        "trusted": true
      },
      "cell_type": "code",
      "source": "\ntrain_images.shape",
      "execution_count": 12,
      "outputs": [
        {
          "output_type": "execute_result",
          "execution_count": 12,
          "data": {
            "text/plain": "(60000, 28, 28)"
          },
          "metadata": {}
        }
      ]
    },
    {
      "metadata": {
        "trusted": true
      },
      "cell_type": "code",
      "source": "len(train_images)",
      "execution_count": 13,
      "outputs": [
        {
          "output_type": "execute_result",
          "execution_count": 13,
          "data": {
            "text/plain": "60000"
          },
          "metadata": {}
        }
      ]
    },
    {
      "metadata": {
        "trusted": true
      },
      "cell_type": "code",
      "source": "train_images = train_images / 255\ntest_images = test_images / 255",
      "execution_count": 14,
      "outputs": []
    },
    {
      "metadata": {
        "trusted": true
      },
      "cell_type": "code",
      "source": "model = ker.Sequential ([\n    ker.layers.Flatten(input_shape=(28, 28)),\n    ker.layers.Dense(128, activation = tf.nn.relu),\n    ker.layers.Dense(10, activation = tf.nn.softmax)\n])",
      "execution_count": 18,
      "outputs": []
    },
    {
      "metadata": {
        "trusted": true
      },
      "cell_type": "code",
      "source": "model.compile(optimizer = 'adam', loss = 'sparse_categorical_crossentropy',\n             metrics = ['accuracy'])",
      "execution_count": 20,
      "outputs": []
    },
    {
      "metadata": {
        "trusted": true
      },
      "cell_type": "code",
      "source": "model.fit(train_images, train_labels, epochs = 5)",
      "execution_count": 21,
      "outputs": [
        {
          "output_type": "stream",
          "text": "Epoch 1/5\n60000/60000 [==============================] - 10s 164us/step - loss: 0.2607 - acc: 0.9259\nEpoch 2/5\n60000/60000 [==============================] - 9s 150us/step - loss: 0.1143 - acc: 0.9661\nEpoch 3/5\n60000/60000 [==============================] - 9s 154us/step - loss: 0.0793 - acc: 0.9758\nEpoch 4/5\n60000/60000 [==============================] - 8s 140us/step - loss: 0.0596 - acc: 0.9817\nEpoch 5/5\n60000/60000 [==============================] - 9s 144us/step - loss: 0.0464 - acc: 0.9855\n",
          "name": "stdout"
        },
        {
          "output_type": "execute_result",
          "execution_count": 21,
          "data": {
            "text/plain": "<tensorflow.python.keras.callbacks.History at 0x7fa48c5de748>"
          },
          "metadata": {}
        }
      ]
    },
    {
      "metadata": {
        "trusted": true
      },
      "cell_type": "code",
      "source": "test_loss, test_acc = model.evaluate(test_images, test_labels)\nprint(test_acc)",
      "execution_count": 22,
      "outputs": [
        {
          "output_type": "stream",
          "text": "10000/10000 [==============================] - 1s 53us/step\n0.9767\n",
          "name": "stdout"
        }
      ]
    },
    {
      "metadata": {
        "trusted": true
      },
      "cell_type": "code",
      "source": "",
      "execution_count": null,
      "outputs": []
    }
  ],
  "metadata": {
    "kernelspec": {
      "name": "python36",
      "display_name": "Python 3.6",
      "language": "python"
    },
    "language_info": {
      "mimetype": "text/x-python",
      "nbconvert_exporter": "python",
      "name": "python",
      "pygments_lexer": "ipython3",
      "version": "3.6.6",
      "file_extension": ".py",
      "codemirror_mode": {
        "version": 3,
        "name": "ipython"
      }
    }
  },
  "nbformat": 4,
  "nbformat_minor": 1
}