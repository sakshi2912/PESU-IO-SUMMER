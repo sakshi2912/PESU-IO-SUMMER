{
 "cells": [
  {
   "cell_type": "code",
   "execution_count": 10,
   "metadata": {},
   "outputs": [
    {
     "ename": "IndentationError",
     "evalue": "unexpected indent (<ipython-input-10-189f4a6b9d42>, line 9)",
     "output_type": "error",
     "traceback": [
      "\u001b[1;36m  File \u001b[1;32m\"<ipython-input-10-189f4a6b9d42>\"\u001b[1;36m, line \u001b[1;32m9\u001b[0m\n\u001b[1;33m    if int(a[mid]) == b:\u001b[0m\n\u001b[1;37m    ^\u001b[0m\n\u001b[1;31mIndentationError\u001b[0m\u001b[1;31m:\u001b[0m unexpected indent\n"
     ]
    }
   ],
   "source": [
    "a=input(\"Enter SORTED array\")\n",
    "b=int(input(\"Enter the number to be searched\"))\n",
    "\n",
    "beg = 0\n",
    "end = len(a)-1\n",
    "found = False\n",
    "while( beg<=last and not found):\n",
    "     mid = (beg +end)//2\n",
    "        if int(a[mid]) == b:\n",
    "            print(\"Found at \"+(mid+1))\n",
    "        else:\n",
    "            if (b < int(a[mid])):\n",
    "                end = mid - 1\n",
    "            else:\n",
    "                beg = mid + 1\n",
    "    \n",
    "\n"
   ]
  },
  {
   "cell_type": "code",
   "execution_count": null,
   "metadata": {},
   "outputs": [],
   "source": []
  }
 ],
 "metadata": {
  "kernelspec": {
   "display_name": "Python 3",
   "language": "python",
   "name": "python3"
  },
  "language_info": {
   "codemirror_mode": {
    "name": "ipython",
    "version": 3
   },
   "file_extension": ".py",
   "mimetype": "text/x-python",
   "name": "python",
   "nbconvert_exporter": "python",
   "pygments_lexer": "ipython3",
   "version": "3.7.3"
  }
 },
 "nbformat": 4,
 "nbformat_minor": 2
}
