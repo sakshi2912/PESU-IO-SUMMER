{
 "cells": [
  {
   "cell_type": "code",
   "execution_count": 10,
   "metadata": {},
   "outputs": [
    {
     "name": "stdout",
     "output_type": "stream",
     "text": [
      "Enter SORTED array2 3 5 6 8 9 \n",
      "Enter the number to be searched9\n",
      "Found at \n",
      "6\n"
     ]
    }
   ],
   "source": [
    "a=(input(\"Enter SORTED array\")).split()\n",
    "b=int(input(\"Enter the number to be searched\"))\n",
    "beg = 0\n",
    "end = len(a)-1\n",
    "found = False\n",
    "while(beg<=end and found==False):\n",
    "        mid = int((beg +end)//2)\n",
    "        if int(a[mid]) == b:\n",
    "            found=True\n",
    "            print(\"Found at \")\n",
    "            print(mid+1)\n",
    "        else:\n",
    "            if(b < int(a[mid])):\n",
    "                end = mid - 1\n",
    "            else:\n",
    "                beg = mid + 1\n",
    "if(found==False):\n",
    "    print(\"Not found\")\n",
    "\n"
   ]
  },
  {
   "cell_type": "code",
   "execution_count": null,
   "metadata": {},
   "outputs": [],
   "source": []
  }
 ],
 "metadata": {
  "kernelspec": {
   "display_name": "Python 3",
   "language": "python",
   "name": "python3"
  },
  "language_info": {
   "codemirror_mode": {
    "name": "ipython",
    "version": 3
   },
   "file_extension": ".py",
   "mimetype": "text/x-python",
   "name": "python",
   "nbconvert_exporter": "python",
   "pygments_lexer": "ipython3",
   "version": "3.7.3"
  }
 },
 "nbformat": 4,
 "nbformat_minor": 2
}
